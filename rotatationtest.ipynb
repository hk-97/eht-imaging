{
  "nbformat": 4,
  "nbformat_minor": 0,
  "metadata": {
    "colab": {
      "name": "Copy of Copy of Morning_Session_4_FromConvolutions_To_ConvNets_Solutions.ipynb",
      "version": "0.3.2",
      "provenance": [],
      "collapsed_sections": [],
      "toc_visible": true,
      "include_colab_link": true
    },
    "language_info": {
      "codemirror_mode": {
        "name": "ipython",
        "version": 3
      },
      "file_extension": ".py",
      "mimetype": "text/x-python",
      "name": "python",
      "nbconvert_exporter": "python",
      "pygments_lexer": "ipython3",
      "version": "3.6.5"
    },
    "kernelspec": {
      "display_name": "Python [default]",
      "language": "python",
      "name": "python3"
    },
    "accelerator": "GPU"
  },
  "cells": [
    {
      "cell_type": "markdown",
      "metadata": {
        "id": "view-in-github",
        "colab_type": "text"
      },
      "source": [
        "<a href=\"https://colab.research.google.com/github/hk-97/eht-imaging/blob/master/rotatationtest.ipynb\" target=\"_parent\"><img src=\"https://colab.research.google.com/assets/colab-badge.svg\" alt=\"Open In Colab\"/></a>"
      ]
    },
    {
      "cell_type": "code",
      "metadata": {
        "id": "m0Zv-bLKsoRC",
        "colab_type": "code",
        "outputId": "6f8f6857-6430-4625-ac9e-4361191d0989",
        "colab": {
          "base_uri": "https://localhost:8080/",
          "height": 2135
        }
      },
      "source": [
        "!pip install pycm livelossplot\n",
        "%pylab inline\n",
        "!pip install albumentations\n",
        "!pip install -U git+https://github.com/albu/albumentations"
      ],
      "execution_count": 0,
      "outputs": [
        {
          "output_type": "stream",
          "text": [
            "Collecting pycm\n",
            "\u001b[?25l  Downloading https://files.pythonhosted.org/packages/35/86/14ebc41098fb81eb7e458d234622a9ce50857bb7d6f350b29765273c00f5/pycm-2.1-py2.py3-none-any.whl (45kB)\n",
            "\u001b[K     |████████████████████████████████| 51kB 1.4MB/s \n",
            "\u001b[?25hCollecting livelossplot\n",
            "  Downloading https://files.pythonhosted.org/packages/55/2b/4be0b3de085cfacf25fc1934f391bd85f90565db4f110f3f7b2220666b09/livelossplot-0.4.0-py3-none-any.whl\n",
            "Collecting art>=1.8 (from pycm)\n",
            "\u001b[?25l  Downloading https://files.pythonhosted.org/packages/6e/cb/12329146ae052d8cc797edec123f87ff54f349af34438d01f1ffe7fc6e1c/art-3.6-py2.py3-none-any.whl (489kB)\n",
            "\u001b[K     |████████████████████████████████| 491kB 5.7MB/s \n",
            "\u001b[?25hRequirement already satisfied: numpy>=1.9.0 in /usr/local/lib/python3.6/dist-packages (from pycm) (1.16.3)\n",
            "Requirement already satisfied: matplotlib in /usr/local/lib/python3.6/dist-packages (from livelossplot) (3.0.3)\n",
            "Requirement already satisfied: notebook in /usr/local/lib/python3.6/dist-packages (from livelossplot) (5.2.2)\n",
            "Collecting coverage>=4.1 (from art>=1.8->pycm)\n",
            "\u001b[?25l  Downloading https://files.pythonhosted.org/packages/f8/4e/f28fc04019bac97d301512d904992791569234a06826cd420f78fba9a361/coverage-4.5.3-cp36-cp36m-manylinux1_x86_64.whl (205kB)\n",
            "\u001b[K     |████████████████████████████████| 215kB 43.8MB/s \n",
            "\u001b[?25hRequirement already satisfied: cycler>=0.10 in /usr/local/lib/python3.6/dist-packages (from matplotlib->livelossplot) (0.10.0)\n",
            "Requirement already satisfied: python-dateutil>=2.1 in /usr/local/lib/python3.6/dist-packages (from matplotlib->livelossplot) (2.5.3)\n",
            "Requirement already satisfied: pyparsing!=2.0.4,!=2.1.2,!=2.1.6,>=2.0.1 in /usr/local/lib/python3.6/dist-packages (from matplotlib->livelossplot) (2.4.0)\n",
            "Requirement already satisfied: kiwisolver>=1.0.1 in /usr/local/lib/python3.6/dist-packages (from matplotlib->livelossplot) (1.1.0)\n",
            "Requirement already satisfied: ipykernel in /usr/local/lib/python3.6/dist-packages (from notebook->livelossplot) (4.6.1)\n",
            "Requirement already satisfied: jinja2 in /usr/local/lib/python3.6/dist-packages (from notebook->livelossplot) (2.10.1)\n",
            "Requirement already satisfied: tornado>=4 in /usr/local/lib/python3.6/dist-packages (from notebook->livelossplot) (4.5.3)\n",
            "Requirement already satisfied: nbformat in /usr/local/lib/python3.6/dist-packages (from notebook->livelossplot) (4.4.0)\n",
            "Requirement already satisfied: traitlets>=4.2.1 in /usr/local/lib/python3.6/dist-packages (from notebook->livelossplot) (4.3.2)\n",
            "Requirement already satisfied: terminado>=0.3.3; sys_platform != \"win32\" in /usr/local/lib/python3.6/dist-packages (from notebook->livelossplot) (0.8.2)\n",
            "Requirement already satisfied: jupyter-client in /usr/local/lib/python3.6/dist-packages (from notebook->livelossplot) (5.2.4)\n",
            "Requirement already satisfied: jupyter-core in /usr/local/lib/python3.6/dist-packages (from notebook->livelossplot) (4.4.0)\n",
            "Requirement already satisfied: ipython-genutils in /usr/local/lib/python3.6/dist-packages (from notebook->livelossplot) (0.2.0)\n",
            "Requirement already satisfied: nbconvert in /usr/local/lib/python3.6/dist-packages (from notebook->livelossplot) (5.5.0)\n",
            "Requirement already satisfied: six in /usr/local/lib/python3.6/dist-packages (from cycler>=0.10->matplotlib->livelossplot) (1.12.0)\n",
            "Requirement already satisfied: setuptools in /usr/local/lib/python3.6/dist-packages (from kiwisolver>=1.0.1->matplotlib->livelossplot) (41.0.1)\n",
            "Requirement already satisfied: ipython>=4.0.0 in /usr/local/lib/python3.6/dist-packages (from ipykernel->notebook->livelossplot) (5.5.0)\n",
            "Requirement already satisfied: MarkupSafe>=0.23 in /usr/local/lib/python3.6/dist-packages (from jinja2->notebook->livelossplot) (1.1.1)\n",
            "Requirement already satisfied: jsonschema!=2.5.0,>=2.4 in /usr/local/lib/python3.6/dist-packages (from nbformat->notebook->livelossplot) (2.6.0)\n",
            "Requirement already satisfied: decorator in /usr/local/lib/python3.6/dist-packages (from traitlets>=4.2.1->notebook->livelossplot) (4.4.0)\n",
            "Requirement already satisfied: ptyprocess; os_name != \"nt\" in /usr/local/lib/python3.6/dist-packages (from terminado>=0.3.3; sys_platform != \"win32\"->notebook->livelossplot) (0.6.0)\n",
            "Requirement already satisfied: pyzmq>=13 in /usr/local/lib/python3.6/dist-packages (from jupyter-client->notebook->livelossplot) (17.0.0)\n",
            "Requirement already satisfied: mistune>=0.8.1 in /usr/local/lib/python3.6/dist-packages (from nbconvert->notebook->livelossplot) (0.8.4)\n",
            "Requirement already satisfied: pygments in /usr/local/lib/python3.6/dist-packages (from nbconvert->notebook->livelossplot) (2.1.3)\n",
            "Requirement already satisfied: pandocfilters>=1.4.1 in /usr/local/lib/python3.6/dist-packages (from nbconvert->notebook->livelossplot) (1.4.2)\n",
            "Requirement already satisfied: testpath in /usr/local/lib/python3.6/dist-packages (from nbconvert->notebook->livelossplot) (0.4.2)\n",
            "Requirement already satisfied: entrypoints>=0.2.2 in /usr/local/lib/python3.6/dist-packages (from nbconvert->notebook->livelossplot) (0.3)\n",
            "Requirement already satisfied: bleach in /usr/local/lib/python3.6/dist-packages (from nbconvert->notebook->livelossplot) (3.1.0)\n",
            "Requirement already satisfied: defusedxml in /usr/local/lib/python3.6/dist-packages (from nbconvert->notebook->livelossplot) (0.6.0)\n",
            "Requirement already satisfied: pickleshare in /usr/local/lib/python3.6/dist-packages (from ipython>=4.0.0->ipykernel->notebook->livelossplot) (0.7.5)\n",
            "Requirement already satisfied: simplegeneric>0.8 in /usr/local/lib/python3.6/dist-packages (from ipython>=4.0.0->ipykernel->notebook->livelossplot) (0.8.1)\n",
            "Requirement already satisfied: pexpect; sys_platform != \"win32\" in /usr/local/lib/python3.6/dist-packages (from ipython>=4.0.0->ipykernel->notebook->livelossplot) (4.7.0)\n",
            "Requirement already satisfied: prompt-toolkit<2.0.0,>=1.0.4 in /usr/local/lib/python3.6/dist-packages (from ipython>=4.0.0->ipykernel->notebook->livelossplot) (1.0.16)\n",
            "Requirement already satisfied: webencodings in /usr/local/lib/python3.6/dist-packages (from bleach->nbconvert->notebook->livelossplot) (0.5.1)\n",
            "Requirement already satisfied: wcwidth in /usr/local/lib/python3.6/dist-packages (from prompt-toolkit<2.0.0,>=1.0.4->ipython>=4.0.0->ipykernel->notebook->livelossplot) (0.1.7)\n",
            "\u001b[31mERROR: datascience 0.10.6 has requirement coverage==3.7.1, but you'll have coverage 4.5.3 which is incompatible.\u001b[0m\n",
            "\u001b[31mERROR: datascience 0.10.6 has requirement folium==0.2.1, but you'll have folium 0.8.3 which is incompatible.\u001b[0m\n",
            "\u001b[31mERROR: coveralls 0.5 has requirement coverage<3.999,>=3.6, but you'll have coverage 4.5.3 which is incompatible.\u001b[0m\n",
            "Installing collected packages: coverage, art, pycm, livelossplot\n",
            "  Found existing installation: coverage 3.7.1\n",
            "    Uninstalling coverage-3.7.1:\n",
            "      Successfully uninstalled coverage-3.7.1\n",
            "Successfully installed art-3.6 coverage-4.5.3 livelossplot-0.4.0 pycm-2.1\n",
            "Populating the interactive namespace from numpy and matplotlib\n",
            "Requirement already satisfied: albumentations in /usr/local/lib/python3.6/dist-packages (0.1.12)\n",
            "Requirement already satisfied: scipy in /usr/local/lib/python3.6/dist-packages (from albumentations) (1.3.0)\n",
            "Requirement already satisfied: opencv-python in /usr/local/lib/python3.6/dist-packages (from albumentations) (3.4.5.20)\n",
            "Requirement already satisfied: numpy>=1.11.1 in /usr/local/lib/python3.6/dist-packages (from albumentations) (1.16.3)\n",
            "Collecting imgaug<0.2.7,>=0.2.5 (from albumentations)\n",
            "\u001b[?25l  Downloading https://files.pythonhosted.org/packages/ad/2e/748dbb7bb52ec8667098bae9b585f448569ae520031932687761165419a2/imgaug-0.2.6.tar.gz (631kB)\n",
            "\u001b[K     |████████████████████████████████| 634kB 2.0MB/s \n",
            "\u001b[?25hRequirement already satisfied: scikit-image>=0.11.0 in /usr/local/lib/python3.6/dist-packages (from imgaug<0.2.7,>=0.2.5->albumentations) (0.15.0)\n",
            "Requirement already satisfied: six in /usr/local/lib/python3.6/dist-packages (from imgaug<0.2.7,>=0.2.5->albumentations) (1.12.0)\n",
            "Requirement already satisfied: PyWavelets>=0.4.0 in /usr/local/lib/python3.6/dist-packages (from scikit-image>=0.11.0->imgaug<0.2.7,>=0.2.5->albumentations) (1.0.3)\n",
            "Requirement already satisfied: matplotlib!=3.0.0,>=2.0.0 in /usr/local/lib/python3.6/dist-packages (from scikit-image>=0.11.0->imgaug<0.2.7,>=0.2.5->albumentations) (3.0.3)\n",
            "Requirement already satisfied: pillow>=4.3.0 in /usr/local/lib/python3.6/dist-packages (from scikit-image>=0.11.0->imgaug<0.2.7,>=0.2.5->albumentations) (4.3.0)\n",
            "Requirement already satisfied: networkx>=2.0 in /usr/local/lib/python3.6/dist-packages (from scikit-image>=0.11.0->imgaug<0.2.7,>=0.2.5->albumentations) (2.3)\n",
            "Requirement already satisfied: imageio>=2.0.1 in /usr/local/lib/python3.6/dist-packages (from scikit-image>=0.11.0->imgaug<0.2.7,>=0.2.5->albumentations) (2.4.1)\n",
            "Requirement already satisfied: kiwisolver>=1.0.1 in /usr/local/lib/python3.6/dist-packages (from matplotlib!=3.0.0,>=2.0.0->scikit-image>=0.11.0->imgaug<0.2.7,>=0.2.5->albumentations) (1.1.0)\n",
            "Requirement already satisfied: cycler>=0.10 in /usr/local/lib/python3.6/dist-packages (from matplotlib!=3.0.0,>=2.0.0->scikit-image>=0.11.0->imgaug<0.2.7,>=0.2.5->albumentations) (0.10.0)\n",
            "Requirement already satisfied: pyparsing!=2.0.4,!=2.1.2,!=2.1.6,>=2.0.1 in /usr/local/lib/python3.6/dist-packages (from matplotlib!=3.0.0,>=2.0.0->scikit-image>=0.11.0->imgaug<0.2.7,>=0.2.5->albumentations) (2.4.0)\n",
            "Requirement already satisfied: python-dateutil>=2.1 in /usr/local/lib/python3.6/dist-packages (from matplotlib!=3.0.0,>=2.0.0->scikit-image>=0.11.0->imgaug<0.2.7,>=0.2.5->albumentations) (2.5.3)\n",
            "Requirement already satisfied: olefile in /usr/local/lib/python3.6/dist-packages (from pillow>=4.3.0->scikit-image>=0.11.0->imgaug<0.2.7,>=0.2.5->albumentations) (0.46)\n",
            "Requirement already satisfied: decorator>=4.3.0 in /usr/local/lib/python3.6/dist-packages (from networkx>=2.0->scikit-image>=0.11.0->imgaug<0.2.7,>=0.2.5->albumentations) (4.4.0)\n",
            "Requirement already satisfied: setuptools in /usr/local/lib/python3.6/dist-packages (from kiwisolver>=1.0.1->matplotlib!=3.0.0,>=2.0.0->scikit-image>=0.11.0->imgaug<0.2.7,>=0.2.5->albumentations) (41.0.1)\n",
            "Building wheels for collected packages: imgaug\n",
            "  Building wheel for imgaug (setup.py) ... \u001b[?25l\u001b[?25hdone\n",
            "  Stored in directory: /root/.cache/pip/wheels/97/ec/48/0d25896c417b715af6236dbcef8f0bed136a1a5e52972fc6d0\n",
            "Successfully built imgaug\n",
            "Installing collected packages: imgaug\n",
            "  Found existing installation: imgaug 0.2.9\n",
            "    Uninstalling imgaug-0.2.9:\n",
            "      Successfully uninstalled imgaug-0.2.9\n",
            "Successfully installed imgaug-0.2.6\n",
            "Collecting git+https://github.com/albu/albumentations\n",
            "  Cloning https://github.com/albu/albumentations to /tmp/pip-req-build-b5pmvlxi\n",
            "  Running command git clone -q https://github.com/albu/albumentations /tmp/pip-req-build-b5pmvlxi\n",
            "Requirement already satisfied, skipping upgrade: numpy>=1.11.1 in /usr/local/lib/python3.6/dist-packages (from albumentations==0.2.3) (1.16.3)\n",
            "Requirement already satisfied, skipping upgrade: scipy in /usr/local/lib/python3.6/dist-packages (from albumentations==0.2.3) (1.3.0)\n",
            "Collecting opencv-python-headless (from albumentations==0.2.3)\n",
            "\u001b[?25l  Downloading https://files.pythonhosted.org/packages/c5/99/73a9f2505b5a4fc6315ad35cb0dbda33e389201c3da24c6fbb0eb0e32c97/opencv_python_headless-4.1.0.25-cp36-cp36m-manylinux1_x86_64.whl (20.0MB)\n",
            "\u001b[K     |████████████████████████████████| 20.0MB 1.6MB/s \n",
            "\u001b[?25hRequirement already satisfied, skipping upgrade: imgaug<0.2.7,>=0.2.5 in /usr/local/lib/python3.6/dist-packages (from albumentations==0.2.3) (0.2.6)\n",
            "Requirement already satisfied, skipping upgrade: PyYAML in /usr/local/lib/python3.6/dist-packages (from albumentations==0.2.3) (3.13)\n",
            "Requirement already satisfied, skipping upgrade: six in /usr/local/lib/python3.6/dist-packages (from imgaug<0.2.7,>=0.2.5->albumentations==0.2.3) (1.12.0)\n",
            "Requirement already satisfied, skipping upgrade: scikit-image>=0.11.0 in /usr/local/lib/python3.6/dist-packages (from imgaug<0.2.7,>=0.2.5->albumentations==0.2.3) (0.15.0)\n",
            "Requirement already satisfied, skipping upgrade: pillow>=4.3.0 in /usr/local/lib/python3.6/dist-packages (from scikit-image>=0.11.0->imgaug<0.2.7,>=0.2.5->albumentations==0.2.3) (4.3.0)\n",
            "Requirement already satisfied, skipping upgrade: PyWavelets>=0.4.0 in /usr/local/lib/python3.6/dist-packages (from scikit-image>=0.11.0->imgaug<0.2.7,>=0.2.5->albumentations==0.2.3) (1.0.3)\n",
            "Requirement already satisfied, skipping upgrade: networkx>=2.0 in /usr/local/lib/python3.6/dist-packages (from scikit-image>=0.11.0->imgaug<0.2.7,>=0.2.5->albumentations==0.2.3) (2.3)\n",
            "Requirement already satisfied, skipping upgrade: matplotlib!=3.0.0,>=2.0.0 in /usr/local/lib/python3.6/dist-packages (from scikit-image>=0.11.0->imgaug<0.2.7,>=0.2.5->albumentations==0.2.3) (3.0.3)\n",
            "Requirement already satisfied, skipping upgrade: imageio>=2.0.1 in /usr/local/lib/python3.6/dist-packages (from scikit-image>=0.11.0->imgaug<0.2.7,>=0.2.5->albumentations==0.2.3) (2.4.1)\n",
            "Requirement already satisfied, skipping upgrade: olefile in /usr/local/lib/python3.6/dist-packages (from pillow>=4.3.0->scikit-image>=0.11.0->imgaug<0.2.7,>=0.2.5->albumentations==0.2.3) (0.46)\n",
            "Requirement already satisfied, skipping upgrade: decorator>=4.3.0 in /usr/local/lib/python3.6/dist-packages (from networkx>=2.0->scikit-image>=0.11.0->imgaug<0.2.7,>=0.2.5->albumentations==0.2.3) (4.4.0)\n",
            "Requirement already satisfied, skipping upgrade: pyparsing!=2.0.4,!=2.1.2,!=2.1.6,>=2.0.1 in /usr/local/lib/python3.6/dist-packages (from matplotlib!=3.0.0,>=2.0.0->scikit-image>=0.11.0->imgaug<0.2.7,>=0.2.5->albumentations==0.2.3) (2.4.0)\n",
            "Requirement already satisfied, skipping upgrade: python-dateutil>=2.1 in /usr/local/lib/python3.6/dist-packages (from matplotlib!=3.0.0,>=2.0.0->scikit-image>=0.11.0->imgaug<0.2.7,>=0.2.5->albumentations==0.2.3) (2.5.3)\n",
            "Requirement already satisfied, skipping upgrade: kiwisolver>=1.0.1 in /usr/local/lib/python3.6/dist-packages (from matplotlib!=3.0.0,>=2.0.0->scikit-image>=0.11.0->imgaug<0.2.7,>=0.2.5->albumentations==0.2.3) (1.1.0)\n",
            "Requirement already satisfied, skipping upgrade: cycler>=0.10 in /usr/local/lib/python3.6/dist-packages (from matplotlib!=3.0.0,>=2.0.0->scikit-image>=0.11.0->imgaug<0.2.7,>=0.2.5->albumentations==0.2.3) (0.10.0)\n",
            "Requirement already satisfied, skipping upgrade: setuptools in /usr/local/lib/python3.6/dist-packages (from kiwisolver>=1.0.1->matplotlib!=3.0.0,>=2.0.0->scikit-image>=0.11.0->imgaug<0.2.7,>=0.2.5->albumentations==0.2.3) (41.0.1)\n",
            "Building wheels for collected packages: albumentations\n",
            "  Building wheel for albumentations (setup.py) ... \u001b[?25l\u001b[?25hdone\n",
            "  Stored in directory: /tmp/pip-ephem-wheel-cache-mwe7fije/wheels/45/8b/e4/2837bbcf517d00732b8e394f8646f22b8723ac00993230188b\n",
            "Successfully built albumentations\n",
            "Installing collected packages: opencv-python-headless, albumentations\n",
            "  Found existing installation: albumentations 0.1.12\n",
            "    Uninstalling albumentations-0.1.12:\n",
            "      Successfully uninstalled albumentations-0.1.12\n",
            "Successfully installed albumentations-0.2.3 opencv-python-headless-4.1.0.25\n"
          ],
          "name": "stdout"
        }
      ]
    },
    {
      "cell_type": "markdown",
      "metadata": {
        "id": "2e1yr7CvoOwW",
        "colab_type": "text"
      },
      "source": [
        "## Additional Functions\n"
      ]
    },
    {
      "cell_type": "code",
      "metadata": {
        "id": "vAisc3sYc-CH",
        "colab_type": "code",
        "colab": {}
      },
      "source": [
        "# creates a 'progress bar' when loading data\n",
        "# |-----------------#####|\n",
        "\n",
        "def progress(value, max=100):\n",
        "    return HTML(\"\"\"\n",
        "        <progress\n",
        "            value='{value}'\n",
        "            max='{max}',\n",
        "            style='width: 50%'\n",
        "        >\n",
        "            {value}\n",
        "        </progress>\n",
        "    \"\"\".format(value=value, max=max))"
      ],
      "execution_count": 0,
      "outputs": []
    },
    {
      "cell_type": "code",
      "metadata": {
        "id": "QnY3K5kQyZQo",
        "colab_type": "code",
        "outputId": "e556bd06-9ad1-423a-feec-6231c58b3f0d",
        "colab": {
          "base_uri": "https://localhost:8080/",
          "height": 124
        }
      },
      "source": [
        "from google.colab import drive\n",
        "drive.mount('/content/drive')"
      ],
      "execution_count": 0,
      "outputs": [
        {
          "output_type": "stream",
          "text": [
            "Go to this URL in a browser: https://accounts.google.com/o/oauth2/auth?client_id=947318989803-6bn6qk8qdgf4n4g3pfee6491hc0brc4i.apps.googleusercontent.com&redirect_uri=urn%3Aietf%3Awg%3Aoauth%3A2.0%3Aoob&scope=email%20https%3A%2F%2Fwww.googleapis.com%2Fauth%2Fdocs.test%20https%3A%2F%2Fwww.googleapis.com%2Fauth%2Fdrive%20https%3A%2F%2Fwww.googleapis.com%2Fauth%2Fdrive.photos.readonly%20https%3A%2F%2Fwww.googleapis.com%2Fauth%2Fpeopleapi.readonly&response_type=code\n",
            "\n",
            "Enter your authorization code:\n",
            "··········\n",
            "Mounted at /content/drive\n"
          ],
          "name": "stdout"
        }
      ]
    },
    {
      "cell_type": "markdown",
      "metadata": {
        "id": "Dn5eCGqioSOz",
        "colab_type": "text"
      },
      "source": [
        "## Imports"
      ]
    },
    {
      "cell_type": "code",
      "metadata": {
        "id": "nESRynR49lRP",
        "colab_type": "code",
        "outputId": "d4e40f25-4423-4b96-f34b-9a8404885019",
        "colab": {
          "base_uri": "https://localhost:8080/",
          "height": 35
        }
      },
      "source": [
        "import numpy as np\n",
        "import matplotlib.pyplot as plt\n",
        "\n",
        "from sklearn.metrics import accuracy_score\n",
        "from sklearn.model_selection import StratifiedShuffleSplit\n",
        "from sklearn.model_selection import KFold\n",
        "\n",
        "from livelossplot import PlotLosses\n",
        "from pycm import *\n",
        "\n",
        "import torch\n",
        "import torch.nn as nn\n",
        "import torch.nn.functional as F\n",
        "from torch.utils.data import TensorDataset, DataLoader\n",
        "import torchvision.transforms as transforms\n",
        "from torchvision.datasets import MNIST\n",
        "\n",
        "from IPython.display import HTML, display\n",
        "import time\n",
        "\n",
        "\n",
        "from albumentations import (\n",
        "   HorizontalFlip, IAAPerspective, ShiftScaleRotate, CLAHE, RandomRotate90,\n",
        "   Transpose, ShiftScaleRotate, Blur, OpticalDistortion, GridDistortion, HueSaturationValue,\n",
        "   IAAAdditiveGaussianNoise, GaussNoise, MotionBlur, MedianBlur, RandomBrightnessContrast, IAAPiecewiseAffine,\n",
        "   IAASharpen, IAAEmboss, Flip, OneOf, Compose, Normalize, GaussianBlur, Rotate, RandomCrop\n",
        ")\n",
        "\n",
        "def set_seed(seed):\n",
        "  \"\"\"\n",
        "  Use this to set ALL the random seeds to a fixed value and take out any randomness from cuda kernels\n",
        "  \"\"\"\n",
        "  random.seed(seed)\n",
        "  np.random.seed(seed)\n",
        "  torch.manual_seed(seed)\n",
        "  torch.cuda.manual_seed_all(seed)\n",
        "\n",
        "  torch.backends.cudnn.benchmark = False  ##uses the inbuilt cudnn auto-tuner to find the fastest convolution algorithms. -\n",
        "  torch.backends.cudnn.enabled   = False\n",
        "\n",
        "  return True\n",
        "\n",
        "device = 'cpu'\n",
        "if torch.cuda.device_count() > 0 and torch.cuda.is_available():\n",
        "  print(\"Cuda installed! Running on GPU!\")\n",
        "  device = 'cuda'\n",
        "else:\n",
        "  print(\"No GPU available!\")"
      ],
      "execution_count": 0,
      "outputs": [
        {
          "output_type": "stream",
          "text": [
            "Cuda installed! Running on GPU!\n"
          ],
          "name": "stdout"
        }
      ]
    },
    {
      "cell_type": "code",
      "metadata": {
        "id": "vOyzKybK2Y7P",
        "colab_type": "code",
        "outputId": "45e9fea9-3cda-4041-c0a1-2aa7206f70fb",
        "colab": {
          "base_uri": "https://localhost:8080/",
          "height": 67
        }
      },
      "source": [
        "from getpass import getpass\n",
        "import os\n",
        "\n",
        "user = getpass('github user')\n",
        "password = getpass('github password')\n",
        "os.environ['GITHUB_AUTH'] = user + ':' + password\n",
        "\n",
        "!git clone https://$GITHUB_AUTH@github.com/msc-acse/acse-8-miniproject-convolution"
      ],
      "execution_count": 0,
      "outputs": [
        {
          "output_type": "stream",
          "text": [
            "github user··········\n",
            "github password··········\n",
            "fatal: destination path 'acse-8-miniproject-convolution' already exists and is not an empty directory.\n"
          ],
          "name": "stdout"
        }
      ]
    },
    {
      "cell_type": "code",
      "metadata": {
        "id": "_E9EulCy5FvR",
        "colab_type": "code",
        "outputId": "7180f245-a9ce-4d39-fc61-e7c208e00a8e",
        "colab": {
          "base_uri": "https://localhost:8080/",
          "height": 35
        }
      },
      "source": [
        "pwd"
      ],
      "execution_count": 0,
      "outputs": [
        {
          "output_type": "execute_result",
          "data": {
            "text/plain": [
              "'/content'"
            ]
          },
          "metadata": {
            "tags": []
          },
          "execution_count": 15
        }
      ]
    },
    {
      "cell_type": "code",
      "metadata": {
        "id": "NfKZz48Vfc5p",
        "colab_type": "code",
        "outputId": "300a283e-2026-49bf-d56c-3a28854f0faa",
        "colab": {
          "base_uri": "https://localhost:8080/",
          "height": 35
        }
      },
      "source": [
        "%cd 'drive/My Drive/acse-8-miniproject-convolution'"
      ],
      "execution_count": 0,
      "outputs": [
        {
          "output_type": "stream",
          "text": [
            "/content/drive/My Drive/acse-8-miniproject-convolution\n"
          ],
          "name": "stdout"
        }
      ]
    },
    {
      "cell_type": "code",
      "metadata": {
        "id": "AZ0Z6DGOpRS7",
        "colab_type": "code",
        "colab": {}
      },
      "source": [
        "train_labels = np.load('Data/kmnist-train-labels.npy')\n",
        "train_imgs   = np.load('Data/kmnist-train-imgs.npy')\n",
        "test_imgs    = np.load('Data/kmnist-test-imgs.npy')\n",
        "# test2_imgs   = np.load('Data/kmnist-test-imgs.npz')['arr_0']\n",
        "# test2_labels = np.load('Data/kmnist-test-labels.npz')['arr_0']"
      ],
      "execution_count": 0,
      "outputs": []
    },
    {
      "cell_type": "code",
      "metadata": {
        "id": "iK4qH25lqPdP",
        "colab_type": "code",
        "outputId": "ccad9e1c-c91d-4daa-def4-352dfb840a0c",
        "colab": {
          "base_uri": "https://localhost:8080/",
          "height": 67
        }
      },
      "source": [
        "print(\"Shape of train_labels\", np.shape(train_labels))\n",
        "print(\"Shape of train_imgs\", np.shape(train_imgs))\n",
        "print(\"Shape of test_imgs\", np.shape(test_imgs))"
      ],
      "execution_count": 0,
      "outputs": [
        {
          "output_type": "stream",
          "text": [
            "Shape of train_labels (60000,)\n",
            "Shape of train_imgs (60000, 28, 28)\n",
            "Shape of test_imgs (10000, 28, 28)\n"
          ],
          "name": "stdout"
        }
      ]
    },
    {
      "cell_type": "code",
      "metadata": {
        "id": "AtnR3vkjqfuY",
        "colab_type": "code",
        "colab": {}
      },
      "source": [
        "# fig, axarray = plt.subplots(5,5, figsize=(10,10))\n",
        "\n",
        "\n",
        "# for i, ax in enumerate(axarray.flatten()):\n",
        "#     ax.imshow(train_imgs[i])\n",
        "#     ax.set_xticks([])\n",
        "#     ax.set_yticks([])\n",
        "#     ax.set_title(train_labels[i])\n"
      ],
      "execution_count": 0,
      "outputs": []
    },
    {
      "cell_type": "markdown",
      "metadata": {
        "id": "ZApL3CcnoZ2i",
        "colab_type": "text"
      },
      "source": [
        "## Models"
      ]
    },
    {
      "cell_type": "code",
      "metadata": {
        "id": "lSrt6lXxsO8t",
        "colab_type": "code",
        "colab": {}
      },
      "source": [
        "class LeNet5(nn.Module):\n",
        "  def __init__(self):\n",
        "    super(LeNet5, self).__init__()\n",
        "    self.c1 = nn.Conv2d(1, 6, kernel_size=5, stride=1, padding=2)\n",
        "    self.s2 = nn.MaxPool2d(kernel_size=2, stride=2)\n",
        "    self.c3 = nn.Conv2d(6, 16, kernel_size=5, stride=1)\n",
        "    self.s4 = nn.MaxPool2d(kernel_size=2, stride=2)\n",
        "    self.c5 = nn.Linear(16*5*5, 120)\n",
        "    self.f6 = nn.Linear(120, 84)\n",
        "    self.output = nn.Linear(84, 10)\n",
        "    self.act = nn.ReLU()\n",
        "\n",
        "  def forward(self, x):\n",
        "    x = self.act(self.c1(x))\n",
        "    x = self.act(self.s2(x))\n",
        "    x = self.act(self.c3(x))\n",
        "    x = self.act(self.s4(x))\n",
        "    x = x.view(-1, x.size(1)*x.size(2)*x.size(3))\n",
        "    x = self.act(self.c5(x))\n",
        "    x = self.act(self.f6(x))\n",
        "    return self.output(x)\n"
      ],
      "execution_count": 0,
      "outputs": []
    },
    {
      "cell_type": "code",
      "metadata": {
        "id": "eBic_u8kgyJQ",
        "colab_type": "code",
        "colab": {}
      },
      "source": [
        "class AlexNet(nn.Module):\n",
        "  def __init__(self):\n",
        "    super(AlexNet, self).__init__()\n",
        "  \n",
        "    #self.up = nn.Upsample(scale_factor=3, mode='bilinear')\n",
        "    self.b1 = nn.BatchNorm2d(num_features=32)\n",
        "    self.b2 = nn.BatchNorm2d(num_features=64)\n",
        "    self.b3 = nn.BatchNorm2d(num_features=128)\n",
        "    self.b4 = nn.BatchNorm2d(num_features=256)\n",
        "    self.b5 = nn.BatchNorm2d(num_features=256)\n",
        "    self.b6 = nn.BatchNorm1d(num_features=128)\n",
        "    self.c1 = nn.Conv2d(1, 32, kernel_size=7, padding=0, stride=1)\n",
        "    self.s1 = nn.MaxPool2d(kernel_size=4, padding=0, stride=2)\n",
        "    self.c2 = nn.Conv2d(32, 64, kernel_size=4, padding=2, stride=1)\n",
        "    self.s2 = nn.MaxPool2d(kernel_size=3, padding=0, stride=2)\n",
        "    self.c3 = nn.Conv2d(64, 128, kernel_size=5, padding=2, stride=1)\n",
        "    self.c4 = nn.Conv2d(128, 256, kernel_size=3, padding=1, stride=1)\n",
        "    self.c5 = nn.Conv2d(256, 256, kernel_size=3, padding=1, stride=1)\n",
        "    self.s3 = nn.MaxPool2d(kernel_size=3, padding=0, stride=2)\n",
        "  \n",
        "    #self.avgpool = nn.AdaptiveAvgPool2d((6, 6))\n",
        "    self.act = nn.ReLU()\n",
        "    self.d = nn.Dropout()\n",
        "    self.f1 = nn.Linear(1024, 128)\n",
        "    #self.f2 = nn.Linear(512, 64)\n",
        "    self.f3 = nn.Linear(128, 10)\n",
        "  \n",
        "  def forward(self, x):\n",
        "    x = self.act(self.b1(self.c1(x)))\n",
        "    \n",
        "    x = self.s1(x)\n",
        "    x = self.act(self.b2(self.c2(x)))\n",
        "    x = self.s2(x)\n",
        "    x = self.act(self.b3(self.c3(x)))\n",
        "    x = self.act(self.b4(self.c4(x)))\n",
        "    x = self.act(self.b5(self.c5(x)))\n",
        "    x = self.s3(x)\n",
        "    x = x.view(-1, x.size(1) * x.size(2) * x.size(3))\n",
        "    #x = self.d(x)\n",
        "    x = self.act(self.b6(self.f1(x)))\n",
        "    #x = self.d(x)\n",
        "    #x = self.act(self.f2(x))\n",
        "    #x = self.d(x)\n",
        "    x = self.f3(x)\n",
        "    return x"
      ],
      "execution_count": 0,
      "outputs": []
    },
    {
      "cell_type": "code",
      "metadata": {
        "id": "yhGeO6AHtAt1",
        "colab_type": "code",
        "colab": {}
      },
      "source": [
        "def apply_normalization(X):\n",
        "  X = X/ 255.\n",
        "  \n",
        "  mu = np.mean(X)\n",
        "  sig = np.std(X)\n",
        "\n",
        "  #X = X -  mu\n",
        "  #X = X/ sig\n",
        "  return mu, sig"
      ],
      "execution_count": 0,
      "outputs": []
    },
    {
      "cell_type": "code",
      "metadata": {
        "id": "Md6MOz5Lttzo",
        "colab_type": "code",
        "colab": {}
      },
      "source": [
        "def train(model, optimizer, criterion, data_loader):\n",
        "  model.train()\n",
        "  train_loss, train_accuracy = 0, 0\n",
        "  for X, y in data_loader:\n",
        "    X, y = X.to(device), y.to(device)\n",
        "    optimizer.zero_grad()\n",
        "    a2 = model(X.view(-1, 1, 28, 28))\n",
        "    loss = criterion(a2, y)\n",
        "    loss.backward()\n",
        "    train_loss += loss*X.size(0)\n",
        "    y_pred = F.log_softmax(a2, dim=1).max(1)[1]\n",
        "    train_accuracy += accuracy_score(y.cpu().numpy(), y_pred.detach().cpu().numpy())*X.size(0)\n",
        "    optimizer.step()\n",
        "\n",
        "  return train_loss/len(data_loader.dataset), train_accuracy/len(data_loader.dataset)\n",
        "\n",
        "def validate(model, criterion, data_loader):\n",
        "  model.eval()\n",
        "  validation_loss, validation_accuracy = 0., 0.\n",
        "  for X, y in data_loader:\n",
        "    with torch.no_grad():\n",
        "      X, y = X.to(device), y.to(device)\n",
        "      a2 = model(X.view(-1, 1, 28, 28))\n",
        "      #a2 = model(X.view(-1, 28*28)) #What does this have to look like for our conv-net? Make the changes!\n",
        "      loss = criterion(a2, y)\n",
        "      validation_loss += loss*X.size(0)\n",
        "      y_pred = F.log_softmax(a2, dim=1).max(1)[1]\n",
        "      validation_accuracy += accuracy_score(y.cpu().numpy(), y_pred.cpu().numpy())*X.size(0)\n",
        "\n",
        "  return validation_loss/len(data_loader.dataset), validation_accuracy/len(data_loader.dataset)\n",
        "\n",
        "def evaluate(model, data_loader):\n",
        "  model.eval()\n",
        "  ys, y_preds = [], []\n",
        "  for X, y in data_loader:\n",
        "    with torch.no_grad():\n",
        "      X, y = X.to(device), y.to(device)\n",
        "      a2 = model(X.view(-1, 1, 28, 28))\n",
        "      #a2 = model(X.view(-1, 28*28)) #What does this have to look like for our conv-net? Make the changes!\n",
        "      y_pred = F.log_softmax(a2, dim=1).max(1)[1]\n",
        "      ys.append(y.cpu().numpy())\n",
        "      y_preds.append(y_pred.cpu().numpy())\n",
        "\n",
        "  return np.concatenate(y_preds, 0),  np.concatenate(ys, 0)"
      ],
      "execution_count": 0,
      "outputs": []
    },
    {
      "cell_type": "code",
      "metadata": {
        "id": "jmvDFOLb1-fz",
        "colab_type": "code",
        "colab": {}
      },
      "source": [
        ""
      ],
      "execution_count": 0,
      "outputs": []
    },
    {
      "cell_type": "code",
      "metadata": {
        "id": "l2XebsoKt0Xb",
        "colab_type": "code",
        "colab": {}
      },
      "source": [
        "seed = 42\n",
        "lr = 1e-2\n",
        "momentum = 0.5\n",
        "batch_size = 64\n",
        "test_batch_size = 1000\n",
        "n_epochs = 50\n",
        "kfold = KFold(n_splits=5, shuffle = False, random_state= 42)"
      ],
      "execution_count": 0,
      "outputs": []
    },
    {
      "cell_type": "code",
      "metadata": {
        "id": "DoHiIOGhoy9N",
        "colab_type": "code",
        "colab": {}
      },
      "source": [
        "#for train2, val in kfold.split(train_imgs):\n",
        "#    print(train_labels[train2].shape)"
      ],
      "execution_count": 0,
      "outputs": []
    },
    {
      "cell_type": "code",
      "metadata": {
        "id": "d-lBM0_ZuAou",
        "colab_type": "code",
        "colab": {}
      },
      "source": [
        "\n",
        "#   HorizontalFlip, IAAPerspective, ShiftScaleRotate, CLAHE, RandomRotate90,\n",
        "#   Transpose, ShiftScaleRotate, Blur, OpticalDistortion, GridDistortion, HueSaturationValue,\n",
        "#   IAAAdditiveGaussianNoise, GaussNoise, MotionBlur, MedianBlur, RandomBrightnessContrast, IAAPiecewiseAffine,\n",
        "#   IAASharpen, IAAEmboss, Flip, OneOf, Compose, Normalize, GaussianBlur\n",
        "\n",
        "#from torchvision.transforms import Compose, ToTensor, Normalize, RandomRotation, ToPILImage, ColorJitter, RandomChoice, RandomAffine\n",
        "from torch.utils.data import Dataset\n",
        "\n",
        "class CustomImageTensorDataset(Dataset):\n",
        "  def __init__(self, data, targets, mu, sig):\n",
        "    \"\"\"\n",
        "    Args:\n",
        "        data (Tensor): A tensor containing the data e.g. images\n",
        "        targets (Tensor): A tensor containing all the labels\n",
        "        transform (callable, optional): Optional transform to be applied\n",
        "            on a sample.\n",
        "    \"\"\"\n",
        "    self.data = data\n",
        "    self.targets = targets\n",
        "    self.mu = mu\n",
        "    self.sig = sig\n",
        "#     self.transform = transform\n",
        "    \n",
        "\n",
        "  def __len__(self):\n",
        "    return len(self.data)\n",
        "  \n",
        "  \n",
        "  def transforms(self):\n",
        "\n",
        "    transforms_ = Compose([\n",
        "    Normalize(mean=(self.mu), std=(self.sig)),\n",
        "    ShiftScaleRotate(shift_limit=0.1, scale_limit=0.2, rotate_limit=15, p=1, border_mode=1),\n",
        "    ], p=0.9)\n",
        "\n",
        "    return transforms_\n",
        "\n",
        "    \n",
        "      \n",
        "  \n",
        "  def __getitem__(self, idx):\n",
        "    sample, label = self.data[idx], self.targets[idx]\n",
        "    #plt.imshow(sample)\n",
        "    #plt.show()\n",
        "\n",
        "\n",
        "    transformation = self.transforms()\n",
        "    sample = transformation(image=sample.numpy())['image']\n",
        "    #plt.imshow(sample)\n",
        "      \n",
        "    return sample, label\n",
        "\n",
        "  \n",
        "  "
      ],
      "execution_count": 0,
      "outputs": []
    },
    {
      "cell_type": "code",
      "metadata": {
        "id": "PWT2ENCwt5RQ",
        "colab_type": "code",
        "colab": {}
      },
      "source": [
        "def train_model(momentum, X_train, X_val):\n",
        "  set_seed(seed)\n",
        "  model = AlexNet().to(device)#VAE().to(device)#AlexNet().to(device)#LeNet5().to(device)#VAE().to(device)\n",
        "  optimizer = torch.optim.SGD(model.parameters(), lr=lr, momentum=momentum)\n",
        "  criterion = nn.CrossEntropyLoss()\n",
        "\n",
        "  liveloss = PlotLosses()\n",
        "  for epoch in range(n_epochs):\n",
        "    print(epoch)\n",
        "    logs = {}\n",
        "    \n",
        "    mu_train, sig_train = apply_normalization(X_train)\n",
        "    mu_val, sig_val = apply_normalization(X_val)\n",
        "\n",
        "\n",
        "    kuz_train = CustomImageTensorDataset(torch.Tensor(X_train).float(), torch.Tensor(y_train).long(), mu_train, sig_train)\n",
        "    kuz_val = CustomImageTensorDataset(torch.Tensor(X_val).float(), torch.Tensor(y_val).long(), mu_val, sig_val)\n",
        "\n",
        "    train_loader = DataLoader(kuz_train, batch_size=batch_size, shuffle=False, num_workers=0)\n",
        "    validation_loader = DataLoader(kuz_val, batch_size=test_batch_size, shuffle=False, num_workers=0)\n",
        "\n",
        "    #test_loader = DataLoader(kuz_test, batch_size=test_batch_size, shuffle=False, num_workers=0)\n",
        "    \n",
        "    train_loss, train_accuracy = train(model, optimizer, criterion, train_loader)\n",
        "    logs['' + 'log loss'] = train_loss.item()\n",
        "    logs['' + 'accuracy'] = train_accuracy.item()\n",
        "    validation_loss, validation_accuracy = validate(model, criterion, validation_loader)\n",
        "    logs['val_' + 'log loss'] = validation_loss.item()\n",
        "    logs['val_' + 'accuracy'] = validation_accuracy.item()\n",
        "    liveloss.update(logs)\n",
        "    liveloss.draw()\n",
        "  \n",
        "  print(\"Avg. Train Accuracy: \", train_accuracy.item())\n",
        "  print(\"Avg. Validation Accuracy: \", validation_accuracy.item())\n",
        "  \n",
        "  return model, train_accuracy.item(), validation_accuracy.item(), liveloss\n",
        "\n",
        "#model = train_model(0.5)"
      ],
      "execution_count": 0,
      "outputs": []
    },
    {
      "cell_type": "code",
      "metadata": {
        "id": "bCUIOresc-ds",
        "colab_type": "code",
        "outputId": "d87ba9f6-af49-46c0-dbf6-6dfa75ff8cb5",
        "colab": {
          "base_uri": "https://localhost:8080/",
          "height": 50
        }
      },
      "source": [
        "def test_one_filter(testimg, testlbl):\n",
        "  mu, sig = apply_normalization(testimg)\n",
        "  print(mu, sig)\n",
        "  CITD =CustomImageTensorDataset(torch.Tensor(testimg).float(), torch.Tensor(testlbl).long(), mu, sig)#, transform=train_transform)\n",
        "\n",
        "  CITD_ldr = DataLoader(CITD, batch_size=1, shuffle=False, num_workers=0)\n",
        "\n",
        "  for i, [X,y] in enumerate(CITD_ldr):\n",
        "    if i < 1:\n",
        "      print(\"h\")\n",
        "      \n",
        "      \n",
        "test_one_filter(train_imgs[666:667], train_labels[666:667])"
      ],
      "execution_count": 0,
      "outputs": [
        {
          "output_type": "stream",
          "text": [
            "0.17096338535414168 0.3359245617228445\n",
            "h\n"
          ],
          "name": "stdout"
        }
      ]
    },
    {
      "cell_type": "code",
      "metadata": {
        "id": "X01oafI3FI5z",
        "colab_type": "code",
        "outputId": "5cc43ec6-dcdc-4251-d6c7-f8c33e686e34",
        "colab": {
          "base_uri": "https://localhost:8080/",
          "height": 485
        }
      },
      "source": [
        "out = display(progress(0, 10), display_id=True)\n",
        "train_accuracy_list = []\n",
        "validation_accuracy_list = []\n",
        "live_losses = []\n",
        "\n",
        "\n",
        "#for k, [train2, val] in enumerate(kfold.split(train_imgs)):\n",
        "  \n",
        "shuffler = StratifiedShuffleSplit(n_splits=1, test_size=0.1, random_state=42).split(train_imgs.data, train_labels.data)\n",
        "for train2, val in shuffler:\n",
        "\n",
        "  X_train, y_train = train_imgs[train2], train_labels[train2]\n",
        "  X_val, y_val = train_imgs[val], train_labels[val]\n",
        "  \n",
        "  model, train_accuracy, validation_accuracy, liveloss = train_model(0.5, X_train, X_val)\n",
        "  \n",
        "  train_accuracy_list.append(train_accuracy)\n",
        "  validation_accuracy_list.append(validation_accuracy)\n",
        "  live_losses.append(liveloss)\n",
        "  #out.update(progress(k+1, 10))"
      ],
      "execution_count": 0,
      "outputs": [
        {
          "output_type": "display_data",
          "data": {
            "image/png": "[encoded data removed]",
            "text/plain": [
              "<Figure size 864x576 with 2 Axes>"
            ]
          },
          "metadata": {
            "tags": []
          }
        },
        {
          "output_type": "stream",
          "text": [
            "log loss:\n",
            "training   (min:    0.072, max:    1.738, cur:    0.073)\n",
            "validation (min:    0.092, max:    2.951, cur:    0.113)\n",
            "\n",
            "accuracy:\n",
            "training   (min:    0.406, max:    0.977, cur:    0.977)\n",
            "validation (min:    0.405, max:    0.973, cur:    0.967)\n",
            "32\n"
          ],
          "name": "stdout"
        }
      ]
    },
    {
      "cell_type": "code",
      "metadata": {
        "id": "DqUrhoawNDrE",
        "colab_type": "code",
        "colab": {}
      },
      "source": [
        "#model, train_accuracy, validation_accuracy, liveloss = train_model(0.5, X_train, X_val)"
      ],
      "execution_count": 0,
      "outputs": []
    },
    {
      "cell_type": "markdown",
      "metadata": {
        "id": "kVUkTTVY3E2S",
        "colab_type": "text"
      },
      "source": [
        "Avg. Test Loss: 0.1079098  Avg. Test Accuracy: 0.9739000\n",
        "\n",
        "---\n",
        "\n"
      ]
    },
    {
      "cell_type": "code",
      "metadata": {
        "id": "rhOZEgVnJI78",
        "colab_type": "code",
        "colab": {}
      },
      "source": [
        "def train_full(momentum, X_train):\n",
        "  set_seed(seed)\n",
        "  model = AlexNet().to(device)#VAE().to(device)#AlexNet().to(device)#LeNet5().to(device)#VAE().to(device)\n",
        "  optimizer = torch.optim.SGD(model.parameters(), lr=lr, momentum=momentum)\n",
        "  criterion = nn.CrossEntropyLoss()\n",
        "\n",
        "  liveloss = PlotLosses()\n",
        "  for epoch in range(n_epochs):\n",
        "    logs = {}\n",
        "    \n",
        "    mu_train, sig_train = apply_normalization(X_train)\n",
        "    kuz_train = CustomImageTensorDataset(torch.Tensor(X_train).float(), torch.Tensor(y_train).long(), mu_train, sig_train)\n",
        "    train_loader = DataLoader(kuz_train, batch_size=batch_size, shuffle=False, num_workers=0)\n",
        "    \n",
        "    train_loss, train_accuracy = train(model, optimizer, criterion, train_loader)\n",
        "    logs['' + 'log loss'] = train_loss.item()\n",
        "    logs['' + 'accuracy'] = train_accuracy.item()\n",
        "    liveloss.update(logs)\n",
        "    liveloss.draw()\n",
        "  \n",
        "  print(\"Avg. Train Accuracy: \", train_accuracy.item())\n",
        "  \n",
        "  return model, train_accuracy.item()\n",
        "\n",
        "#model = train_model(0.5)"
      ],
      "execution_count": 0,
      "outputs": []
    },
    {
      "cell_type": "code",
      "metadata": {
        "id": "3jC7U5jU89kA",
        "colab_type": "code",
        "colab": {}
      },
      "source": [
        "#out = display(progress(0, 10), display_id=True)\n",
        "#train_accuracy_list = []\n",
        "#validation_accuracy_list = []\n",
        "#live_losses = []\n",
        "#  \n",
        "#X_train, y_train = train_imgs, train_labels\n",
        "#\n",
        "#mu_train, sig_train = apply_normalization(X_train)\n",
        "#\n",
        "#kuz_train = CustomImageTensorDataset(torch.Tensor(X_train).float(), torch.Tensor(y_train).long(), mu_train, sig_train)\n",
        "#\n",
        "#model, train_accuracy, validation_accuracy, liveloss = train_full(0.5, kuz_train)\n",
        "#train_accuracy_list.append(train_accuracy)\n",
        "#live_losses.append(liveloss)\n",
        "##out.update(progress(k+1, 10))"
      ],
      "execution_count": 0,
      "outputs": []
    },
    {
      "cell_type": "code",
      "metadata": {
        "id": "AmdE9vlMW6V-",
        "colab_type": "code",
        "colab": {}
      },
      "source": [
        "validation_accuracy_list"
      ],
      "execution_count": 0,
      "outputs": []
    },
    {
      "cell_type": "code",
      "metadata": {
        "id": "tVgUCvzoTSDG",
        "colab_type": "code",
        "colab": {}
      },
      "source": [
        "criterion = nn.CrossEntropyLoss()\n",
        "test2_imgs   = np.load('Data/kmnist-test-imgs.npz')['arr_0']\n",
        "mu_test, sig_test = apply_normalization(test2_imgs)\n",
        "X_test, y_test = test2_imgs, test2_labels\n",
        "kuz_test = CustomImageTensorDataset(torch.Tensor(X_test).float(), torch.Tensor(y_test).long(), mu_test, sig_test)\n",
        "test_loader = DataLoader(kuz_test, batch_size=test_batch_size, shuffle=False, num_workers=0)\n",
        "test_loss, test_accuracy = validate(model, criterion, test_loader)    \n",
        "print(\"Avg. Test Loss: %1.7f\" % test_loss.item(), \" Avg. Test Accuracy: %1.7f\" % test_accuracy.item())\n"
      ],
      "execution_count": 0,
      "outputs": []
    },
    {
      "cell_type": "code",
      "metadata": {
        "id": "R_m_OeKrU-x7",
        "colab_type": "code",
        "colab": {}
      },
      "source": [
        "test_loader = DataLoader(kuz_test, batch_size=test_batch_size, shuffle=False, num_workers=0)\n",
        "x,y = evaluate(model, test_loader)\n",
        "col1 = range(len(x))\n",
        "col2 = np.array(x,dtype='int32')\n",
        "narr = np.vstack((col1, col2)).T\n",
        "np.savetxt('tt.csv', narr, fmt=\"%d\", delimiter=\",\")"
      ],
      "execution_count": 0,
      "outputs": []
    },
    {
      "cell_type": "code",
      "metadata": {
        "id": "rfImF8oY6Wza",
        "colab_type": "code",
        "colab": {}
      },
      "source": [
        "pwd"
      ],
      "execution_count": 0,
      "outputs": []
    },
    {
      "cell_type": "code",
      "metadata": {
        "id": "jSBKK9X3YXg0",
        "colab_type": "code",
        "colab": {}
      },
      "source": [
        ""
      ],
      "execution_count": 0,
      "outputs": []
    }
  ]
}